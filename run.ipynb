{
 "cells": [
  {
   "cell_type": "code",
   "execution_count": null,
   "metadata": {},
   "outputs": [],
   "source": [
    "import numpy as np\n",
    "import matplotlib.pyplot as plt\n",
    "from ipywidgets import interact, FloatSlider, IntSlider, VBox\n",
    "from PIL import Image, ImageFilter\n",
    "import ipywidgets as widgets\n",
    "from IPython.display import display\n",
    "\n"
   ]
  },
  {
   "cell_type": "code",
   "execution_count": null,
   "metadata": {},
   "outputs": [],
   "source": [
    "class PreprocessState:\n",
    "    def __init__(self):\n",
    "        self.blur_radius = 0\n",
    "        self.threshold = 128\n",
    "    \n",
    "    def update(self, blur_radius, threshold):\n",
    "        self.blur_radius = blur_radius\n",
    "        self.threshold = threshold"
   ]
  },
  {
   "cell_type": "code",
   "execution_count": null,
   "metadata": {},
   "outputs": [],
   "source": [
    "def preprocess_image(image, state):\n",
    "    # Apply Gaussian blur\n",
    "    if state.blur_radius > 0:\n",
    "        image = image.filter(ImageFilter.GaussianBlur(radius=state.blur_radius))\n",
    "    \n",
    "    # Convert to grayscale\n",
    "    image = image.convert('L')\n",
    "    \n",
    "    # Apply threshold\n",
    "    image = np.array(image)\n",
    "    image[image < state.threshold] = 0\n",
    "    image[image >= state.threshold] = 255\n",
    "    return Image.fromarray(image)\n"
   ]
  },
  {
   "cell_type": "code",
   "execution_count": null,
   "metadata": {},
   "outputs": [],
   "source": [
    "def display_dashboard():\n",
    "    # Define the upload widget\n",
    "    upload_widget = widgets.FileUpload(accept='image/*', multiple=False)\n",
    "    \n",
    "    # Define function to handle file upload\n",
    "    def handle_upload(change):\n",
    "        if upload_widget.value:\n",
    "            # Get the uploaded file\n",
    "            file = list(upload_widget.value.values())[0]\n",
    "            image = Image.open(file['content'])\n",
    "            \n",
    "            # Display the image\n",
    "            plt.figure(figsize=(8, 8))\n",
    "            plt.title(\"Uploaded Image\")\n",
    "            plt.imshow(image)\n",
    "            plt.axis('off')\n",
    "            plt.show()\n",
    "\n",
    "    # Display the upload widget and set the handler\n",
    "    upload_widget.observe(handle_upload, names='value')\n",
    "    display(upload_widget)\n"
   ]
  },
  {
   "cell_type": "code",
   "execution_count": null,
   "metadata": {},
   "outputs": [],
   "source": [
    "display_dashboard()\n"
   ]
  }
 ],
 "metadata": {
  "language_info": {
   "name": "python"
  }
 },
 "nbformat": 4,
 "nbformat_minor": 2
}
