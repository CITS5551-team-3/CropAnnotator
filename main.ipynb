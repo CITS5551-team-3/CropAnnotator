{
 "cells": [
  {
   "cell_type": "markdown",
   "metadata": {},
   "source": [
    "# Initial loading of the image and set up"
   ]
  },
  {
   "cell_type": "code",
   "execution_count": 10,
   "metadata": {},
   "outputs": [],
   "source": [
    "import cv2\n",
    "import numpy as np\n",
    "from collections import Counter\n",
    "from matplotlib import pyplot as plt\n",
    "import ipywidgets as widgets\n",
    "from IPython.display import display\n",
    "\n",
    "img = \"images/example.JPG\"\n",
    "\n"
   ]
  },
  {
   "cell_type": "markdown",
   "metadata": {},
   "source": [
    "# Auto Preprocessing Step "
   ]
  },
  {
   "cell_type": "code",
   "execution_count": 17,
   "metadata": {},
   "outputs": [],
   "source": [
    "def remove_most_common_color_background(image, tolerance=30):\n",
    "    # Reshape the image to a list of pixels\n",
    "    pixels = np.float32(image.reshape(-1, 3))\n",
    "    \n",
    "    # Use k-means to cluster the pixel colors\n",
    "    n_colors = 5\n",
    "    _, labels, palette = cv2.kmeans(pixels, n_colors, None, \n",
    "                                    (cv2.TERM_CRITERIA_EPS + cv2.TERM_CRITERIA_MAX_ITER, 100, 0.2), \n",
    "                                    10, cv2.KMEANS_RANDOM_CENTERS)\n",
    "    \n",
    "    # Count each color occurrence\n",
    "    counts = Counter(labels.flatten())\n",
    "    \n",
    "    # Get the most common color\n",
    "    dominant_color = palette[np.argmax(counts)]\n",
    "    \n",
    "    # Create a mask for colors close to the dominant color\n",
    "    lower_bound = np.maximum(dominant_color - tolerance, 0)\n",
    "    upper_bound = np.minimum(dominant_color + tolerance, 255)\n",
    "    mask = cv2.inRange(image, lower_bound, upper_bound)\n",
    "    \n",
    "    # Invert the mask to keep everything except the background\n",
    "    mask_inv = cv2.bitwise_not(mask)\n",
    "    \n",
    "    # Remove the background\n",
    "    result = cv2.bitwise_and(image, image, mask=mask_inv)\n",
    "\n",
    "    # Optional: Replace the background with white\n",
    "    white_background = np.full(image.shape, 255, dtype=np.uint8)\n",
    "    final_image = np.where(result == 0, white_background, result)\n",
    "    \n",
    "    return final_image\n",
    "\n",
    "\n",
    "\n",
    "# Load the image once to avoid reloading it with every update\n",
    "image_path = img\n",
    "original_image = cv2.imread(image_path)\n",
    "\n",
    "def update_preprocessing(tolerance):\n",
    "    preprocessed_image = remove_most_common_color_background(original_image, tolerance)\n",
    "    \n",
    "    plt.figure(figsize=(10, 5))\n",
    "    plt.subplot(1, 2, 1)\n",
    "    plt.imshow(cv2.cvtColor(original_image, cv2.COLOR_BGR2RGB))\n",
    "    plt.title('Original Image')\n",
    "    plt.axis('off')\n",
    "\n",
    "    plt.subplot(1, 2, 2)\n",
    "    plt.imshow(cv2.cvtColor(preprocessed_image, cv2.COLOR_BGR2RGB))\n",
    "    plt.title('Preprocessed Image')\n",
    "    plt.axis('off')\n",
    "    \n",
    "    plt.show()\n"
   ]
  },
  {
   "cell_type": "markdown",
   "metadata": {},
   "source": [
    "# Adjusting Preprocessing"
   ]
  },
  {
   "cell_type": "code",
   "execution_count": 18,
   "metadata": {},
   "outputs": [
    {
     "data": {
      "application/vnd.jupyter.widget-view+json": {
       "model_id": "15f5a7f835614185a15813eff09e9466",
       "version_major": 2,
       "version_minor": 0
      },
      "text/plain": [
       "interactive(children=(IntSlider(value=30, description='Tolerance:'), Output()), _dom_classes=('widget-interact…"
      ]
     },
     "metadata": {},
     "output_type": "display_data"
    }
   ],
   "source": [
    "\n",
    "\n",
    "# Create a slider widget for tolerance\n",
    "tolerance_slider = widgets.IntSlider(value=30, min=0, max=100, step=1, description='Tolerance:')\n",
    "# Display the interactive widget\n",
    "interactive_plot = widgets.interactive(update_preprocessing, tolerance=tolerance_slider)\n",
    "\n",
    "display(interactive_plot)"
   ]
  },
  {
   "cell_type": "code",
   "execution_count": null,
   "metadata": {},
   "outputs": [],
   "source": []
  }
 ],
 "metadata": {
  "kernelspec": {
   "display_name": "venv",
   "language": "python",
   "name": "python3"
  },
  "language_info": {
   "codemirror_mode": {
    "name": "ipython",
    "version": 3
   },
   "file_extension": ".py",
   "mimetype": "text/x-python",
   "name": "python",
   "nbconvert_exporter": "python",
   "pygments_lexer": "ipython3",
   "version": "3.10.11"
  }
 },
 "nbformat": 4,
 "nbformat_minor": 2
}
