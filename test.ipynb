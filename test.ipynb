{
 "cells": [
  {
   "cell_type": "code",
   "execution_count": null,
   "metadata": {},
   "outputs": [],
   "source": [
    "import ipywidgets as widgets\n",
    "from IPython.display import display, Image\n",
    "from PIL import Image as PILImage\n"
   ]
  },
  {
   "cell_type": "code",
   "execution_count": null,
   "metadata": {},
   "outputs": [],
   "source": [
    "import ipywidgets as widgets\n",
    "from IPython.display import display\n",
    "from io import BytesIO\n",
    "from PIL import Image as PILImage\n",
    "\n",
    "def display_dashboard():\n",
    "    # Define the upload widget\n",
    "    upload_widget = widgets.FileUpload(accept='image/*', multiple=False)\n",
    "    \n",
    "    # Define the text box to display the filename\n",
    "    filename_textbox = widgets.Text(\n",
    "        description='Filename:',\n",
    "        disabled=True\n",
    "    )\n",
    "    \n",
    "    # Define function to handle file upload\n",
    "    def handle_upload(change):\n",
    "        if upload_widget.value:\n",
    "            # Get the uploaded file\n",
    "            file = list(upload_widget.value.values())[0]\n",
    "            filename = file['name']  # Use 'name' instead of 'metadata' for filename\n",
    "            \n",
    "            # Debugging\n",
    "            print(\"Uploaded file info:\", file)\n",
    "            print(\"Filename:\", filename)\n",
    "            \n",
    "            # Update the textbox with the filename\n",
    "            filename_textbox.value = filename\n",
    "            \n",
    "            # Optionally display the image (commented out if not needed)\n",
    "            # image_content = file['content']\n",
    "            # image = PILImage.open(BytesIO(image_content))\n",
    "            # image.show()\n",
    "\n",
    "    # Display the upload widget, text box, and set the handler\n",
    "    upload_widget.observe(handle_upload, names='value')\n",
    "    display(upload_widget, filename_textbox)\n",
    "\n",
    "# Run the dashboard\n",
    "display_dashboard()\n"
   ]
  },
  {
   "cell_type": "code",
   "execution_count": null,
   "metadata": {},
   "outputs": [],
   "source": []
  },
  {
   "cell_type": "code",
   "execution_count": null,
   "metadata": {},
   "outputs": [],
   "source": [
    "def test_widget():\n",
    "    test_textbox = widgets.Text(description='Test:')\n",
    "    display(test_textbox)\n",
    "\n",
    "test_widget()\n"
   ]
  }
 ],
 "metadata": {
  "language_info": {
   "name": "python"
  }
 },
 "nbformat": 4,
 "nbformat_minor": 2
}
